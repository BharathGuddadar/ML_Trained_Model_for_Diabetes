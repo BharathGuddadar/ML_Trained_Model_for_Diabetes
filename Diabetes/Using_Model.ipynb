{
 "cells": [
  {
   "cell_type": "code",
   "execution_count": 11,
   "id": "f0dd670d",
   "metadata": {},
   "outputs": [],
   "source": [
    "from tensorflow.keras.models import load_model\n",
    "\n",
    "model = load_model(\"diabetes_model.keras\")\n"
   ]
  },
  {
   "cell_type": "code",
   "execution_count": 12,
   "id": "5985d426",
   "metadata": {},
   "outputs": [
    {
     "name": "stdout",
     "output_type": "stream",
     "text": [
      "\u001b[1m1/1\u001b[0m \u001b[32m━━━━━━━━━━━━━━━━━━━━\u001b[0m\u001b[37m\u001b[0m \u001b[1m0s\u001b[0m 89ms/step\n",
      "Prediction (Probability): [[0.7691291]]\n",
      "Predicted Class: 1\n"
     ]
    }
   ],
   "source": [
    "import numpy as np\n",
    "import pandas as pd\n",
    "import joblib\n",
    "from tensorflow.keras.models import load_model\n",
    "\n",
    "# Load scaler and model\n",
    "scaler = joblib.load('scaler.save')\n",
    "\n",
    "# Sample input data\n",
    "input_data = {\n",
    "    'Pregnancies': [6],\n",
    "    'Glucose': [148],\n",
    "    'BloodPressure': [72],\n",
    "    'SkinThickness': [35],\n",
    "    'Insulin': [0],\n",
    "    'BMI': [33.6],\n",
    "    'DiabetesPedigreeFunction': [0.627],\n",
    "    'Age': [50]\n",
    "}\n",
    "df_input = pd.DataFrame(input_data)\n",
    "\n",
    "# Scale the input\n",
    "df_scaled = scaler.transform(df_input)\n",
    "\n",
    "# Predict\n",
    "prediction = model.predict(df_scaled)\n",
    "print(\"Prediction (Probability):\", prediction)\n",
    "print(\"Predicted Class:\", int(prediction[0][0] >= 0.5))\n"
   ]
  }
 ],
 "metadata": {
  "kernelspec": {
   "display_name": "Python 3",
   "language": "python",
   "name": "python3"
  },
  "language_info": {
   "codemirror_mode": {
    "name": "ipython",
    "version": 3
   },
   "file_extension": ".py",
   "mimetype": "text/x-python",
   "name": "python",
   "nbconvert_exporter": "python",
   "pygments_lexer": "ipython3",
   "version": "3.12.1"
  }
 },
 "nbformat": 4,
 "nbformat_minor": 5
}
