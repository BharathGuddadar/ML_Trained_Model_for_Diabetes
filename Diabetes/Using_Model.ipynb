{
 "cells": [
  {
   "cell_type": "code",
   "execution_count": 4,
   "id": "f0dd670d",
   "metadata": {},
   "outputs": [],
   "source": [
    "from tensorflow.keras.models import load_model\n",
    "\n",
    "model = load_model(\"diabetes_model.keras\")\n"
   ]
  },
  {
   "cell_type": "code",
   "execution_count": 8,
   "id": "5985d426",
   "metadata": {},
   "outputs": [
    {
     "name": "stderr",
     "output_type": "stream",
     "text": [
      "c:\\Users\\bhara\\AppData\\Local\\Programs\\Python\\Python312\\Lib\\site-packages\\sklearn\\utils\\validation.py:2739: UserWarning: X does not have valid feature names, but StandardScaler was fitted with feature names\n",
      "  warnings.warn(\n"
     ]
    }
   ],
   "source": [
    "import numpy as np\n",
    "import joblib\n",
    "scaler = joblib.load('scaler.save')\n",
    "\n",
    "# Example: 1 sample with 8 features\n",
    "sample_input = np.array([[6, 148, 72, 35, 0, 33.6, 0.627, 50]])\n",
    "\n",
    "# Scale it if you used a scaler like StandardScaler\n",
    "sample_input_scaled = scaler.transform(sample_input)  # if used during training\n"
   ]
  },
  {
   "cell_type": "code",
   "execution_count": null,
   "id": "48cbf720",
   "metadata": {},
   "outputs": [
    {
     "name": "stdout",
     "output_type": "stream",
     "text": [
      "\u001b[1m1/1\u001b[0m \u001b[32m━━━━━━━━━━━━━━━━━━━━\u001b[0m\u001b[37m\u001b[0m \u001b[1m0s\u001b[0m 32ms/step\n",
      "Prediction (probability): [[0.85401195]]\n",
      "Predicted label: [[1]]\n"
     ]
    }
   ],
   "source": [
    "prediction = model.predict(sample_input_scaled)\n",
    "print(\"Prediction (probability):\", prediction)\n",
    "\n",
    "# Optional: convert to label (0 or 1)\n",
    "predicted_label = (prediction > 0.5).astype(\"int\")\n",
    "print(\"Predicted label:\", predicted_label)\n"
   ]
  },
  {
   "cell_type": "code",
   "execution_count": 13,
   "id": "f58cfcaf",
   "metadata": {},
   "outputs": [
    {
     "name": "stdout",
     "output_type": "stream",
     "text": [
      "\u001b[1m1/1\u001b[0m \u001b[32m━━━━━━━━━━━━━━━━━━━━\u001b[0m\u001b[37m\u001b[0m \u001b[1m0s\u001b[0m 26ms/step\n",
      "Predictions: [[0.85401195]\n",
      " [0.02724251]]\n",
      "Labels: [[1]\n",
      " [0]]\n"
     ]
    },
    {
     "name": "stderr",
     "output_type": "stream",
     "text": [
      "c:\\Users\\bhara\\AppData\\Local\\Programs\\Python\\Python312\\Lib\\site-packages\\sklearn\\utils\\validation.py:2739: UserWarning: X does not have valid feature names, but StandardScaler was fitted with feature names\n",
      "  warnings.warn(\n"
     ]
    }
   ],
   "source": [
    "batch = np.array([\n",
    "    [6, 148, 72, 35, 0, 33.6, 0.627, 50],\n",
    "    [1, 85, 66, 29, 0, 26.6, 0.351, 31],\n",
    "])\n",
    "\n",
    "batch_scaled = scaler.transform(batch)\n",
    "predictions = model.predict(batch_scaled)\n",
    "labels = (predictions > 0.5).astype(\"int\")\n",
    "\n",
    "print(\"Predictions:\", predictions)\n",
    "print(\"Labels:\", labels)\n"
   ]
  }
 ],
 "metadata": {
  "kernelspec": {
   "display_name": "Python 3",
   "language": "python",
   "name": "python3"
  },
  "language_info": {
   "codemirror_mode": {
    "name": "ipython",
    "version": 3
   },
   "file_extension": ".py",
   "mimetype": "text/x-python",
   "name": "python",
   "nbconvert_exporter": "python",
   "pygments_lexer": "ipython3",
   "version": "3.12.1"
  }
 },
 "nbformat": 4,
 "nbformat_minor": 5
}
